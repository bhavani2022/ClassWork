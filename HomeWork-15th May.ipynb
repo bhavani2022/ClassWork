{
 "cells": [
  {
   "cell_type": "code",
   "execution_count": 2,
   "id": "eb8ef8ba",
   "metadata": {},
   "outputs": [
    {
     "data": {
      "text/plain": [
       "'h   r tnrrmglsnimeNGyosi dtfco'"
      ]
     },
     "execution_count": 2,
     "metadata": {},
     "output_type": "execute_result"
    }
   ],
   "source": [
    "\"\"\"\"1 . Try to extract data from index one to index 300 with a jump of 3\"\"\"\n",
    "\n",
    "s1 = \"this is My First Python programming class and i am learNING python string and its function\"\n",
    "s1[1:300:3]"
   ]
  },
  {
   "cell_type": "code",
   "execution_count": 4,
   "id": "9b931f4f",
   "metadata": {},
   "outputs": [
    {
     "data": {
      "text/plain": [
       "'noitcnuf sti dna gnirts nohtyp GNINrael ma i dna ssalc gnimmargorp nohtyP tsriF yM si siht'"
      ]
     },
     "execution_count": 4,
     "metadata": {},
     "output_type": "execute_result"
    }
   ],
   "source": [
    "\n",
    "\"\"\" 2. Try to reverse a string without using reverse function \"\"\"\n",
    "s2 = \"this is My First Python programming class and i am learNING python string and its function\"\n",
    "s2[::-1]"
   ]
  },
  {
   "cell_type": "code",
   "execution_count": 6,
   "id": "420c1137",
   "metadata": {},
   "outputs": [
    {
     "data": {
      "text/plain": [
       "['THIS IS MY FIRST ',\n",
       " ' PROGRAMMING CLASS AND I AM LEARNING ',\n",
       " ' STRING AND ITS FUNCTION']"
      ]
     },
     "execution_count": 6,
     "metadata": {},
     "output_type": "execute_result"
    }
   ],
   "source": [
    "\"\"\" 3. Try to split a string after conversion of entire string in uppercase \"\"\"\n",
    "s3 = \"this is My First Python programming class and i am learNING python string and its function\"\n",
    "s3=s3.upper()\n",
    "s3.split(\"PYTHON\")"
   ]
  },
  {
   "cell_type": "code",
   "execution_count": 7,
   "id": "89b02129",
   "metadata": {},
   "outputs": [
    {
     "data": {
      "text/plain": [
       "'this is my first python programming class and i am learning python string and its function'"
      ]
     },
     "execution_count": 7,
     "metadata": {},
     "output_type": "execute_result"
    }
   ],
   "source": [
    "\"\"\" 4. try to convert the whole string into lower case \"\"\"\n",
    "s4 = \"this is My First Python programming class and i am learNING python string and its function\"\n",
    "s4 = s4.lower()\n",
    "s4"
   ]
  },
  {
   "cell_type": "code",
   "execution_count": 17,
   "id": "d0c3b5f5",
   "metadata": {},
   "outputs": [
    {
     "data": {
      "text/plain": [
       "'This is my first python programming class and i am learning python string and its function.'"
      ]
     },
     "execution_count": 17,
     "metadata": {},
     "output_type": "execute_result"
    }
   ],
   "source": [
    "\"\"\"5 . Try to capitalize the whole string \"\"\"\n",
    "s5 = \"this is My First Python programming class and i am learNING python string and its function.\"\n",
    "s5.capitalize()"
   ]
  },
  {
   "cell_type": "markdown",
   "id": "be657f8f",
   "metadata": {},
   "source": [
    "\"\"\" 6. Write a diference between isalnum() and isalpha()\"\"\"\n",
    "\n",
    "isalnum():Its a python builtin function which returns TRUE if the string is alphabet or numeric otherwise FALSE. There should be atlease 1 character in the string.\n",
    "\n",
    "isalpha():It is also python builtin function which returns TRUE if the string contains only alphabet otherwise FALSE. There should be atlease 1 character in the string."
   ]
  },
  {
   "cell_type": "code",
   "execution_count": 18,
   "id": "4726039c",
   "metadata": {},
   "outputs": [
    {
     "data": {
      "text/plain": [
       "'this is My First Python programming class        and     i am learNING python string and its function'"
      ]
     },
     "execution_count": 18,
     "metadata": {},
     "output_type": "execute_result"
    }
   ],
   "source": [
    "\"\"\"7. Try to give an example of expand tab\"\"\"\n",
    "s7 = \"this is My First Python programming class\\t and\\t i am learNING python string and its function\"\n",
    "s7=s7.expandtabs()\n",
    "s7"
   ]
  },
  {
   "cell_type": "code",
   "execution_count": 20,
   "id": "fa36fafb",
   "metadata": {},
   "outputs": [
    {
     "data": {
      "text/plain": [
       "'this is My First Python programming class and     i am learNING python string and its function       '"
      ]
     },
     "execution_count": 20,
     "metadata": {},
     "output_type": "execute_result"
    }
   ],
   "source": [
    "\"\"\"8 . Give an example of lstrip\"\"\"\n",
    "s8 = \"     this is My First Python programming class and     i am learNING python string and its function       \"\n",
    "s8.lstrip()"
   ]
  },
  {
   "cell_type": "code",
   "execution_count": 21,
   "id": "e3700b07",
   "metadata": {},
   "outputs": [
    {
     "data": {
      "text/plain": [
       "'     this is My First Python programming class and     i am learNING python string and its function'"
      ]
     },
     "execution_count": 21,
     "metadata": {},
     "output_type": "execute_result"
    }
   ],
   "source": [
    "\"\"\"8 . Give an example of rstrip\"\"\"\n",
    "s8 = \"     this is My First Python programming class and     i am learNING python string and its function       \"\n",
    "s8.rstrip()"
   ]
  },
  {
   "cell_type": "code",
   "execution_count": 22,
   "id": "4c159918",
   "metadata": {},
   "outputs": [
    {
     "data": {
      "text/plain": [
       "'this is My First Python programming class and     i am learNING python string and its function'"
      ]
     },
     "execution_count": 22,
     "metadata": {},
     "output_type": "execute_result"
    }
   ],
   "source": [
    "\"\"\"8 . Give an example of strip\"\"\"\n",
    "s8 = \"     this is My First Python programming class and     i am learNING python string and its function       \"\n",
    "s8.strip()"
   ]
  },
  {
   "cell_type": "code",
   "execution_count": 25,
   "id": "6fcc3ae6",
   "metadata": {},
   "outputs": [
    {
     "data": {
      "text/plain": [
       "'BhAvAni Hegde'"
      ]
     },
     "execution_count": 25,
     "metadata": {},
     "output_type": "execute_result"
    }
   ],
   "source": [
    "\"\"\"9.  Replace a string charecter by another charector by taking your own example \"\"\"\n",
    "s9=\"Bhavani Hegde\"\n",
    "s9s=s9.split('a')\n",
    "\"A\".join(s9s)"
   ]
  },
  {
   "cell_type": "markdown",
   "id": "1b94a31e",
   "metadata": {},
   "source": [
    "\"\"\"10 . Try  to give a defination of string center function with and exmple \"\"\"\n",
    "String Center function: It will allocate the number of spaces mentioned in the first place of the center function and fill both the side of the string with the character/letter mentioned in the second place of the center function. We can only mention a single charecter/letter in the second position. "
   ]
  },
  {
   "cell_type": "code",
   "execution_count": 27,
   "id": "216537db",
   "metadata": {},
   "outputs": [
    {
     "data": {
      "text/plain": [
       "'@@@Bhavani Hegde@@@@'"
      ]
     },
     "execution_count": 27,
     "metadata": {},
     "output_type": "execute_result"
    }
   ],
   "source": [
    "\"\"\"10 . Try  to give a defination of string center function with and exmple \"\"\"\n",
    "s10=\"Bhavani Hegde\"\n",
    "s10.center(20,'@')"
   ]
  },
  {
   "cell_type": "markdown",
   "id": "c0af275d",
   "metadata": {},
   "source": [
    "\"\"\"11 . Write your own definition of compiler and interpretor without copy paste form internet in your own language\"\"\"\n",
    "\n",
    "1. Compiler is the computer program which translate the high level code into machine level code which will be in binary(1 and      0) before the program run, during compilation. where as Interpreter is the computer program which translate the high level      code into machine level code during the program run.\n",
    "2. Compiler scans/translates the whole program in one go where as interpreter translate one statement at a time.\n",
    "3. Compiler displays the errors after the whole program is compiled where as Interpreter displays the error of each line by        line.\n",
    "4. Compiler execution time is less compare to Interpreter."
   ]
  },
  {
   "cell_type": "markdown",
   "id": "0d081302",
   "metadata": {},
   "source": [
    "\"\"\"12 . Python is a interpreted of compiled language give a clear ans with your understanding \"\"\"\n",
    "\n",
    "As far as i understand, Python does both compilation and interpretation. Python code written in .py files is first compiled to code called as bytecode which is stored in .pyc files. When python bytecode and the virtual machine have the same version, Python bytecode can be excecuted on any platform be it Windows or Mac operating system.\n",
    "Before executing a python program python interpreter checks for the compiled files. if the file is present virtual machine executes it. If not found then it compiles the .py files to .pyc files and then virtual machine executes it.\n",
    "Having the .pyc files saves the compilation  time."
   ]
  },
  {
   "cell_type": "markdown",
   "id": "484db24b",
   "metadata": {},
   "source": [
    "\"\"\"13 . Try to write a usecase of python with your understanding .\"\"\"\n",
    "Python coding is very easy compare to other coding languages.One can easily learn Pythong without any programming background. Now a days Python is used in real world every where be it Web development, Data Analytics, Data Science, Game develeopment or software development etc... because of availability of number of libraries which it supports.\n",
    "\n",
    "Data Analytics/Data Science/Big Data: Tbere are number of libraries which maily supports for data analytics task such as numpy and pandas , which makes data cleaning and analysis task relatively good. Ex: A school website wants to understand the students growth better year by year. Highlights the predictable marks before their board exams(Which is very common in Western Countries) which will help the kid to choose the proper University in the cominng year.    \n",
    "\n",
    "Web development: Many of the websites which we brows everyday are built using Python and popular python web framework such as Django and Flask. Here Python scripting is maily used in driving functionality, managing data base and user accounts etc..\n",
    "\n",
    "\n"
   ]
  },
  {
   "cell_type": "code",
   "execution_count": null,
   "id": "5faae958",
   "metadata": {},
   "outputs": [],
   "source": []
  }
 ],
 "metadata": {
  "kernelspec": {
   "display_name": "Python 3 (ipykernel)",
   "language": "python",
   "name": "python3"
  },
  "language_info": {
   "codemirror_mode": {
    "name": "ipython",
    "version": 3
   },
   "file_extension": ".py",
   "mimetype": "text/x-python",
   "name": "python",
   "nbconvert_exporter": "python",
   "pygments_lexer": "ipython3",
   "version": "3.9.7"
  }
 },
 "nbformat": 4,
 "nbformat_minor": 5
}
