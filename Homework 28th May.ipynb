{
 "cells": [
  {
   "cell_type": "code",
   "execution_count": 32,
   "id": "01fc7711",
   "metadata": {},
   "outputs": [
    {
     "data": {
      "text/plain": [
       "'\\nQ1\\nQ1\\nQ1\\n\\n'"
      ]
     },
     "execution_count": 32,
     "metadata": {},
     "output_type": "execute_result"
    }
   ],
   "source": [
    "\"\"\"\n",
    "Q1  done\n",
    "Q2  not done completely\n",
    "Q3  done\n",
    "Q4  done\n",
    "Q5  done\n",
    "Q6  done\n",
    "Q7  done\n",
    "Q8  done\n",
    "Q9  done\n",
    "Q10  done\n",
    "Q11  done\n",
    "Q12  done\n",
    "Q13  not done completely\n",
    "Q14  not done completely\n",
    "q15 done\n",
    "\"\"\""
   ]
  },
  {
   "cell_type": "code",
   "execution_count": 31,
   "id": "0baf10e5",
   "metadata": {},
   "outputs": [
    {
     "name": "stdout",
     "output_type": "stream",
     "text": [
      "ineuron \n",
      "\n",
      "ineuron ineuron \n",
      "\n",
      "ineuron ineuron ineuron \n",
      "\n",
      "ineuron ineuron ineuron ineuron \n",
      "\n"
     ]
    }
   ],
   "source": [
    "\"\"\"\"1: ineuron \n",
    "    ineuron ineuron\n",
    "    ineuron  ineuro ineuron\n",
    "    ineuron  ineuro ineuron  ineuron \n",
    "    \n",
    "    \"\"\"\n",
    "#DONE\n",
    "n=4\n",
    "for i in range(4):\n",
    "    for j in range(0,i+1):\n",
    "         print(\"ineuron\", end = \" \")  \n",
    "    print(\"\\n\")"
   ]
  },
  {
   "cell_type": "code",
   "execution_count": 30,
   "id": "3c89526b",
   "metadata": {},
   "outputs": [
    {
     "name": "stdout",
     "output_type": "stream",
     "text": [
      "                          ineuron                                \n",
      "     ineuron                                     ineuron                                \n",
      "        ineuron          ineuron          ineuron  \n",
      "\n",
      "               ineuron                 ineuron  \n",
      "\n",
      "                      ineuron  \n",
      "\n"
     ]
    }
   ],
   "source": [
    "\"\"\"\"2  ineuron  \n",
    "ineuron ineuron\n",
    "ineuron  ineuro ineuron\n",
    "    ineuron  ineuro \n",
    "ineuron  \"\"\"\n",
    "\n",
    "\n",
    "#NOT COMLETELY DONE\n",
    "#HAVE TRIED MANY OPTIONS AND CONFUSED NOW: PLS HELP\n",
    "\n",
    "import math\n",
    "n=5\n",
    "st = \"ineuron\"\n",
    "middle=math.floor(n/2)\n",
    "if n % 2 == 0: \n",
    "    pass\n",
    "else:\n",
    "    math.ceil(n/2)\n",
    "    \n",
    "for m in range(1,n+1):\n",
    "    if m <= middle:\n",
    "        k=middle-m\n",
    "        for i in range(k):\n",
    "            print(\"   \"*len(st),end=\"\")\n",
    "        print((\"     \"+st +\"  \"+\"    \"*len(st)+\"  \")*m)\n",
    "    else:\n",
    "        rsp=m-middle\n",
    "        r=n-m+1\n",
    "        for r2 in range(r):\n",
    "            print(\" \"*len(st)*rsp,st,end=\"  \")\n",
    "        print(\"\\n\")"
   ]
  },
  {
   "cell_type": "code",
   "execution_count": 11,
   "id": "03517796",
   "metadata": {},
   "outputs": [
    {
     "name": "stdout",
     "output_type": "stream",
     "text": [
      "[1, 2, 3, 4]\n",
      "['ineuron', 'data science']\n"
     ]
    }
   ],
   "source": [
    "\"\"\"\"\" Q3: l =[[1,2,3,4],(2,3,4,5,6),(3,4,5,6,7),set([23,4,5,45,4,4,5,45,45,4,5]),\n",
    "        {\"k1\":\"sudh\",\"k2\":\"ineuron\",\"k3\":\"kumar\",3:6,7:8},\n",
    "        [\"ineuron\",\"data science\"]]\"\"\"\n",
    "\n",
    "#DONE\n",
    "\n",
    "#3.try to extract all the list entry\n",
    "\n",
    "l =[[1,2,3,4],(2,3,4,5,6),(3,4,5,6,7),set([23,4,5,45,4,4,5,45,45,4,5]),\n",
    "        {\"k1\":\"sudh\",\"k2\":\"ineuron\",\"k3\":\"kumar\",3:6,7:8},\n",
    "        [\"ineuron\",\"data science\"]]\n",
    "\n",
    "for i in l:\n",
    "    if type(i) == list:\n",
    "        print(i)"
   ]
  },
  {
   "cell_type": "code",
   "execution_count": 7,
   "id": "ea7d8386",
   "metadata": {},
   "outputs": [
    {
     "data": {
      "text/plain": [
       "[{'k1': 'sudh', 'k2': 'ineuron', 'k3': 'kumar', 3: 6, 7: 8}]"
      ]
     },
     "execution_count": 7,
     "metadata": {},
     "output_type": "execute_result"
    }
   ],
   "source": [
    "l =[[1,2,3,4],(2,3,4,5,6),(3,4,5,6,7),set([23,4,5,45,4,4,5,45,45,4,5]),\n",
    "        {\"k1\":\"sudh\",\"k2\":\"ineuron\",\"k3\":\"kumar\",3:6,7:8},\n",
    "        [\"ineuron\",\"data science\"]]\n",
    "#DONE\n",
    "# 4.try to extract all the dict entries\n",
    "\n",
    "for i in l:\n",
    "    if type(i) == dict:\n",
    "        print(i)"
   ]
  },
  {
   "cell_type": "code",
   "execution_count": 9,
   "id": "f43a1fca",
   "metadata": {},
   "outputs": [
    {
     "name": "stdout",
     "output_type": "stream",
     "text": [
      "(2, 3, 4, 5, 6)\n",
      "(3, 4, 5, 6, 7)\n"
     ]
    }
   ],
   "source": [
    "l =[[1,2,3,4],(2,3,4,5,6),(3,4,5,6,7),set([23,4,5,45,4,4,5,45,45,4,5]),\n",
    "        {\"k1\":\"sudh\",\"k2\":\"ineuron\",\"k3\":\"kumar\",3:6,7:8},\n",
    "        [\"ineuron\",\"data science\"]]\n",
    "\n",
    "#DONE\n",
    "# 5.try to extract all the tuple entries\n",
    "\n",
    "\n",
    "for i in l:\n",
    "    if type(i) == tuple:\n",
    "        print(i)"
   ]
  },
  {
   "cell_type": "code",
   "execution_count": 125,
   "id": "ec148088",
   "metadata": {},
   "outputs": [
    {
     "data": {
      "text/plain": [
       "[1, 2, 3, 4, 2, 3, 4, 5, 6, 3, 4, 5, 6, 7, 45, 4, 5, 23, 3, 6, 7, 8]"
      ]
     },
     "execution_count": 125,
     "metadata": {},
     "output_type": "execute_result"
    }
   ],
   "source": [
    "l =[[1,2,3,4],(2,3,4,5,6),(3,4,5,6,7),set([23,4,5,45,4,4,5,45,45,4,5]),\n",
    "        {\"k1\":\"sudh\",\"k2\":\"ineuron\",\"k3\":\"kumar\",3:6,7:8},\n",
    "        [\"ineuron\",\"data science\"]]\n",
    "\n",
    "# DONE\n",
    "#6. try to extract all the numerical data even if it is dict key and values\n",
    "\n",
    "l1=[]\n",
    "for i in l:\n",
    "    if type(i) == int:\n",
    "        l1.append(i)\n",
    "    if type(i) == list or type(i) == tuple or type(i) == set :\n",
    "        for j in i:\n",
    "            if type(j) == int :\n",
    "                l1.append(j)\n",
    "    if type(i) == dict :\n",
    "        for k,v in i.items():\n",
    "            if type(k) == int or type(v) == int:\n",
    "                l1.append(k) \n",
    "                l1.append(v)\n",
    "        \n",
    "\n",
    "l1"
   ]
  },
  {
   "cell_type": "code",
   "execution_count": 126,
   "id": "d8936fdb",
   "metadata": {},
   "outputs": [
    {
     "name": "stdout",
     "output_type": "stream",
     "text": [
      "156\n"
     ]
    }
   ],
   "source": [
    "l =[[1,2,3,4],(2,3,4,5,6),(3,4,5,6,7),set([23,4,5,45,4,4,5,45,45,4,5]),\n",
    "        {\"k1\":\"sudh\",\"k2\":\"ineuron\",\"k3\":\"kumar\",3:6,7:8},\n",
    "        [\"ineuron\",\"data science\"]]\n",
    "\n",
    "# DONE\n",
    "#7. try to give summassion of all numeric data.\n",
    "\n",
    "\n",
    "\n",
    "l2=[]\n",
    "Sum = 0\n",
    "for i in l:\n",
    "    if type(i) == int:\n",
    "        l2.append(i)\n",
    "    if type(i) == list or type(i) == tuple or type(i) == set :\n",
    "        for j in i:\n",
    "            if type(j) == int :\n",
    "                l2.append(j)\n",
    "    if type(i) == dict :\n",
    "        for k,v in i.items():\n",
    "            if type(k) == int or type(v) == int:\n",
    "                l2.append(k) \n",
    "                l2.append(v)\n",
    "\n",
    "l2\n",
    "b = sum(l2)\n",
    "print(b)\n",
    "    "
   ]
  },
  {
   "cell_type": "code",
   "execution_count": 134,
   "id": "3bc55185",
   "metadata": {},
   "outputs": [
    {
     "data": {
      "text/plain": [
       "[1, 3, 3, 5, 3, 5, 7, 45, 5, 23]"
      ]
     },
     "execution_count": 134,
     "metadata": {},
     "output_type": "execute_result"
    }
   ],
   "source": [
    "l =[[1,2,3,4],(2,3,4,5,6),(3,4,5,6,7),set([23,4,5,45,4,4,5,45,45,4,5]),\n",
    "        {\"k1\":\"sudh\",\"k2\":\"ineuron\",\"k3\":\"kumar\",3:6,7:8},\n",
    "        [\"ineuron\",\"data science\"]]\n",
    "\n",
    "\n",
    "# DONE\n",
    "#8.try to filter out all the odd values of the numeric data which is \n",
    "#the part of the list\n",
    "\n",
    "\n",
    "l2=[]\n",
    "l3=[]\n",
    "Sum = 0\n",
    "for i in l:\n",
    "    if type(i) == int:\n",
    "        l2.append(i)\n",
    "    if type(i) == list or type(i) == tuple or type(i) == set :\n",
    "        for j in i:\n",
    "            if type(j) == int :\n",
    "                l2.append(j)\n",
    "\n",
    "l2\n",
    "for a in l2:\n",
    "    if a % 2 != 0 :\n",
    "        l3.append(a)\n",
    "\n",
    "l3"
   ]
  },
  {
   "cell_type": "code",
   "execution_count": 136,
   "id": "a786ebeb",
   "metadata": {},
   "outputs": [
    {
     "data": {
      "text/plain": [
       "['ineuron', 'ineuron']"
      ]
     },
     "execution_count": 136,
     "metadata": {},
     "output_type": "execute_result"
    }
   ],
   "source": [
    "l =[[1,2,3,4],(2,3,4,5,6),(3,4,5,6,7),set([23,4,5,45,4,4,5,45,45,4,5]),\n",
    "        {\"k1\":\"sudh\",\"k2\":\"ineuron\",\"k3\":\"kumar\",3:6,7:8},\n",
    "        [\"ineuron\",\"data science\"]]\n",
    "\n",
    "# DONE\n",
    "#9.try to extract ineuron out of this data\n",
    "l4= []\n",
    "for i in l:\n",
    "    if type(i) == str :\n",
    "        if i == \"ineuron\":\n",
    "            l4.append()\n",
    "    if type(i) == list or type(i) == tuple or type(i) == set :\n",
    "         for j in i:\n",
    "            if j == \"ineuron\" :\n",
    "                l4.append(j)\n",
    "    if type(i)==dict :\n",
    "        for k,v in i.items():\n",
    "            if k == \"ineuron\" or v == \"ineuron\" : \n",
    "                l4.append(v)  \n",
    "\n",
    "l4"
   ]
  },
  {
   "cell_type": "code",
   "execution_count": 139,
   "id": "bf6d0888",
   "metadata": {},
   "outputs": [
    {
     "name": "stdout",
     "output_type": "stream",
     "text": [
      "1  :  1\n",
      "2  :  2\n",
      "3  :  4\n",
      "4  :  4\n",
      "5  :  3\n",
      "6  :  3\n",
      "7  :  2\n",
      "k1  :  1\n",
      "sudh  :  1\n",
      "k2  :  1\n",
      "8  :  1\n",
      "45  :  1\n",
      "k3  :  1\n",
      "kumar  :  1\n",
      "23  :  1\n",
      "data science  :  1\n",
      "ineuron  :  2\n"
     ]
    }
   ],
   "source": [
    "l =[[1,2,3,4],(2,3,4,5,6),(3,4,5,6,7),set([23,4,5,45,4,4,5,45,45,4,5]),\n",
    "        {\"k1\":\"sudh\",\"k2\":\"ineuron\",\"k3\":\"kumar\",3:6,7:8},\n",
    "        [\"ineuron\",\"data science\"]]\n",
    "\n",
    "# DONE\n",
    "#10. try to find the number of occurance of all the data\n",
    "\n",
    "\n",
    "l5=[]\n",
    "for i in l:\n",
    "    if type(i) == str :\n",
    "            l5.append()\n",
    "    if type(i) == list or type(i) == tuple or type(i) == set :\n",
    "         for j in i:\n",
    "                l5.append(j)\n",
    "    if type(i)==dict :\n",
    "        for k,v in i.items(): \n",
    "            l5.append(k)\n",
    "            l5.append(v)  \n",
    "    \n",
    "l5\n",
    "set(l5)\n",
    "for i in set(l5):\n",
    "       print(i, \" : \", l5.count(i))\n",
    "\n"
   ]
  },
  {
   "cell_type": "code",
   "execution_count": 109,
   "id": "f754d7d5",
   "metadata": {},
   "outputs": [
    {
     "name": "stdout",
     "output_type": "stream",
     "text": [
      "dict_keys(['k1', 'k2', 'k3', 3, 7])\n",
      "5\n"
     ]
    }
   ],
   "source": [
    "# DONE\n",
    "#Q11. try to find out number of keys in dict element\n",
    "\n",
    "l =[[1,2,3,4],(2,3,4,5,6),(3,4,5,6,7),set([23,4,5,45,4,4,5,45,45,4,5]),\n",
    "        {\"k1\":\"sudh\",\"k2\":\"ineuron\",\"k3\":\"kumar\",3:6,7:8},\n",
    "        [\"ineuron\",\"data science\"]]\n",
    "\n",
    "for i in l:   \n",
    "    if type(i) == dict:\n",
    "        print(i.keys())\n",
    "        print(len(i.keys()))\n",
    "        \n",
    "        \n"
   ]
  },
  {
   "cell_type": "code",
   "execution_count": 124,
   "id": "72a5336c",
   "metadata": {},
   "outputs": [
    {
     "data": {
      "text/plain": [
       "['k1', 'sudh', 'k2', 'ineuron', 'k3', 'kumar', 'ineuron', 'data science']"
      ]
     },
     "execution_count": 124,
     "metadata": {},
     "output_type": "execute_result"
    }
   ],
   "source": [
    "#DONE\n",
    "#Q12.try to filter out all string data\n",
    "\n",
    "l =[[1,2,3,4],(2,3,4,5,6),(3,4,5,6,7),set([23,4,5,45,4,4,5,45,45,4,5]),\n",
    "        {\"k1\":\"sudh\",\"k2\":\"ineuron\",\"k3\":\"kumar\",3:6,7:8},\n",
    "        [\"ineuron\",\"data science\"]]\n",
    "\n",
    "l6=[]\n",
    "for i in l:\n",
    "    if type(i) == str :\n",
    "        l6.append(i)\n",
    "    if type(i) == list or type(i) == tuple or type(i) == set :\n",
    "         for j in i:\n",
    "            if type(j) == str:\n",
    "                l6.append(j)   \n",
    "    if type(i)==dict :\n",
    "        for k,v in i.items():\n",
    "            if type(k) == str or type(v) == 3:\n",
    "                l6.append(k) \n",
    "                l6.append(v)                         \n",
    "\n",
    "\n",
    "l6"
   ]
  },
  {
   "cell_type": "code",
   "execution_count": null,
   "id": "24603b58",
   "metadata": {},
   "outputs": [],
   "source": [
    "#NOT DONE\n",
    "#Q13.try to find alpha num in data\n",
    "\n",
    "l =[[1,2,3,4],(2,3,4,5,6),(3,4,5,6,7),set([23,4,5,45,4,4,5,45,45,4,5]),\n",
    "        {\"k1\":\"sudh\",\"k2\":\"ineuron\",\"k3\":\"kumar\",3:6,7:8},\n",
    "        [\"ineuron\",\"data science\"]]\n",
    "\n",
    "l5=[]\n",
    "l6=[]\n",
    "for i in l:\n",
    "    if type(i) == str :\n",
    "        l5.append(i)\n",
    "    if type(i) == list or type(i) == tuple or type(i) == set :\n",
    "         for j in i:\n",
    "                l5.append(j)\n",
    "    if type(i)==dict :\n",
    "        for k,v in i.items(): \n",
    "            l5.append(k)\n",
    "            l5.append(v)  \n",
    "    \n",
    "x=l5\n",
    "for i in range(0,len(x)):\n",
    "    if type(x[i]) == str:\n",
    "        if x[i].isalnum() == True:\n",
    "            l6.append(x[i])\n",
    "l6\n"
   ]
  },
  {
   "cell_type": "code",
   "execution_count": null,
   "id": "427801de",
   "metadata": {},
   "outputs": [],
   "source": [
    "#Q14.try to find out multiplication of all numeric value in the induvidual collection inside dataset\n",
    "\n",
    "l =[[1,2,3,4],(2,3,4,5,6),(3,4,5,6,7),set([23,4,5,45,4,4,5,45,45,4,5]),\n",
    "        {\"k1\":\"sudh\",\"k2\":\"ineuron\",\"k3\":\"kumar\",3:6,7:8},\n",
    "        [\"ineuron\",\"data science\"]]\n",
    "\n",
    "mulint =1\n",
    "mullist = 1\n",
    "multuple= 1\n",
    "mulset =1\n",
    "muldict = 1\n",
    "ll = []\n",
    "lt = []\n",
    "ls = []\n",
    "\n",
    "for i in l:\n",
    "    if type(i) == int:\n",
    "        mulint = mulint * i\n",
    "        \n",
    "    if type(i) == list :\n",
    "        for m in l:\n",
    "            if type(m) == int:\n",
    "                ll.append(m)\n",
    "                \n",
    "    if type(i) == tuple :\n",
    "        for t in l:\n",
    "            if type(t) == int:\n",
    "                lt.append(t)\n",
    "    \n",
    "    if type(i) == set :\n",
    "        for s in l:\n",
    "            if type(s) == int:\n",
    "                ls.append(s)\n",
    "        \n",
    "        \n",
    "    if type(i) == dict :\n",
    "        for k,v in i.items():\n",
    "            if type(k) == int or type(v) == int:\n",
    "                muldict = muldict * k *v\n",
    "    \n",
    "for mm in ll:\n",
    "    mullist= mullist* mm\n",
    "\n",
    "for tt in lt:\n",
    "    mullist= mullist* tt\n",
    "    \n",
    "for ss in ls:\n",
    "    mullist= mullist* ss\n",
    "\n",
    "    \n",
    "print(\"1\",mulint)\n",
    "print(\"2\",mullist)\n",
    "print(\"3\",multuple)\n",
    "print(\"4\",mulset)\n",
    "print(\"5\",muldict)\n"
   ]
  },
  {
   "cell_type": "code",
   "execution_count": 1,
   "id": "be8ee841",
   "metadata": {},
   "outputs": [
    {
     "data": {
      "text/plain": [
       "[1,\n",
       " 2,\n",
       " 3,\n",
       " 4,\n",
       " 2,\n",
       " 3,\n",
       " 4,\n",
       " 5,\n",
       " 6,\n",
       " 3,\n",
       " 4,\n",
       " 5,\n",
       " 6,\n",
       " 7,\n",
       " 45,\n",
       " 4,\n",
       " 5,\n",
       " 23,\n",
       " 'k1',\n",
       " 'sudh',\n",
       " 'k2',\n",
       " 'ineuron',\n",
       " 'k3',\n",
       " 'kumar',\n",
       " 3,\n",
       " 6,\n",
       " 7,\n",
       " 8,\n",
       " 'ineuron',\n",
       " 'data science']"
      ]
     },
     "execution_count": 1,
     "metadata": {},
     "output_type": "execute_result"
    }
   ],
   "source": [
    "# DONE\n",
    "#unwrap all the collection inside collectionand create the flat list\n",
    "\n",
    "\n",
    "l =[[1,2,3,4],(2,3,4,5,6),(3,4,5,6,7),set([23,4,5,45,4,4,5,45,45,4,5]),\n",
    "        {\"k1\":\"sudh\",\"k2\":\"ineuron\",\"k3\":\"kumar\",3:6,7:8},\n",
    "        [\"ineuron\",\"data science\"]]\n",
    "l9=[]\n",
    "for i in l:\n",
    "    if type(i) == str :\n",
    "            l9.append()\n",
    "    if type(i) == list or type(i) == tuple or type(i) == set :\n",
    "         for j in i:\n",
    "                l9.append(j)\n",
    "    if type(i)==dict :\n",
    "        for k,v in i.items(): \n",
    "            l9.append(k)\n",
    "            l9.append(v)  \n",
    "    \n",
    "l9"
   ]
  },
  {
   "cell_type": "code",
   "execution_count": null,
   "id": "13a6a170",
   "metadata": {},
   "outputs": [],
   "source": []
  },
  {
   "cell_type": "code",
   "execution_count": null,
   "id": "85b9f39f",
   "metadata": {},
   "outputs": [],
   "source": []
  },
  {
   "cell_type": "code",
   "execution_count": null,
   "id": "b8c6154d",
   "metadata": {},
   "outputs": [],
   "source": []
  },
  {
   "cell_type": "code",
   "execution_count": null,
   "id": "0c2bc7ce",
   "metadata": {},
   "outputs": [],
   "source": []
  }
 ],
 "metadata": {
  "kernelspec": {
   "display_name": "Python 3 (ipykernel)",
   "language": "python",
   "name": "python3"
  },
  "language_info": {
   "codemirror_mode": {
    "name": "ipython",
    "version": 3
   },
   "file_extension": ".py",
   "mimetype": "text/x-python",
   "name": "python",
   "nbconvert_exporter": "python",
   "pygments_lexer": "ipython3",
   "version": "3.9.12"
  }
 },
 "nbformat": 4,
 "nbformat_minor": 5
}
