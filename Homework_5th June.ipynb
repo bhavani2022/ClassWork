{
 "cells": [
  {
   "cell_type": "markdown",
   "id": "560b66c9",
   "metadata": {},
   "source": [
    "Q1 : done\n",
    "Q2: not done\n",
    "Q3: done\n",
    "Q4: done\n",
    "Q5: done\n",
    "Q6: done\n",
    "Q7: done\n"
   ]
  },
  {
   "cell_type": "code",
   "execution_count": 71,
   "id": "0ac60440",
   "metadata": {},
   "outputs": [
    {
     "name": "stdout",
     "output_type": "stream",
     "text": [
      " 2   3   5   7   11   13   17   19   23   29   31   37   41   43   47   53   59   61   67   71   73   79   83   89   97   101   103   107   109   113   127   131   137   139   149   151   157   163   167   173   179   181   191   193   197   199   211   223   227   229   233   239   241   251   257   263   269   271   277   281   283   293   307   311   313   317   331   337   347   349   353   359   367   373   379   383   389   397   401   409   419   421   431   433   439   443   449   457   461   463   467   479   487   491   499   503   509   521   523   541   547   557   563   569   571   577   587   593   599   601   607   613   617   619   631   641   643   647   653   659   661   673   677   683   691   701   709   719   727   733   739   743   751   757   761   769   773   787   797   809   811   821   823   827   829   839   853   857   859   863   877   881   883   887   907   911   919   929   937   941   947   953   967   971   977   983   991   997  "
     ]
    }
   ],
   "source": [
    "\"\"\"q1: try to print prime number inbetween 1 to 1000\"\"\"\n",
    "def prime():\n",
    "     for Number in range (1, 1001):\n",
    "        count = 0\n",
    "        for i in range(2, (Number//2 + 1)):\n",
    "            if(Number % i == 0):\n",
    "                count = count + 1\n",
    "                break\n",
    "\n",
    "        if (count == 0 and Number != 1):\n",
    "            print(\" %d\" %Number, end = '  ')\n",
    "\n",
    "prime()"
   ]
  },
  {
   "cell_type": "code",
   "execution_count": 9,
   "id": "183365ec",
   "metadata": {},
   "outputs": [],
   "source": [
    "\"\"\"q2: try to write a func which is equivalent to print function\"\"\""
   ]
  },
  {
   "cell_type": "code",
   "execution_count": 15,
   "id": "d05b9eb0",
   "metadata": {},
   "outputs": [
    {
     "name": "stdout",
     "output_type": "stream",
     "text": [
      "[4, 5]\n",
      "[4, 5, 7]\n",
      "\n",
      "['Mon', 'Tue', 'Wed', 'Thu', 'Fri']\n",
      "\n",
      "[1, 2, 3, 4, 5, 6, 7, 8, 9]\n"
     ]
    }
   ],
   "source": [
    "\"\"\"q3: try to write a function which is replica of list append , extent and pop finctions\"\"\"\n",
    "def app():\n",
    "    '''append without using append function'''\n",
    "    x = [4, 5]\n",
    "    y = x + [7]\n",
    "    print(x)\n",
    "    print(y)\n",
    "    print()\n",
    "\n",
    "def ext():\n",
    "    '''extend without using extend function'''\n",
    "    list = ['Mon','Tue','Wed']\n",
    "    list1 = list + ['Thu','Fri']\n",
    "    print(list1)\n",
    "    print()\n",
    "\n",
    "def pop():\n",
    "    '''pop without using pop function'''\n",
    "    lst=[1,2,3,4,5,6,7,8,9,10]\n",
    "    lst[:] = lst[:-1]\n",
    "    print(lst)\n",
    "\n",
    "app()\n",
    "ext()\n",
    "pop()"
   ]
  },
  {
   "cell_type": "code",
   "execution_count": 34,
   "id": "e8ebf4af",
   "metadata": {},
   "outputs": [
    {
     "data": {
      "text/plain": [
       "'BhavaniHegdeStuttgart'"
      ]
     },
     "execution_count": 34,
     "metadata": {},
     "output_type": "execute_result"
    }
   ],
   "source": [
    "\"\"\"q4:try to write the lambda func which can return a concatination of all string that wll pass\"\"\"\n",
    "\n",
    "def con(*list_args):\n",
    "    res = \"\"\n",
    "    for w in list_args:\n",
    "        res += w\n",
    "    return res\n",
    "\n",
    "l = lambda *x : con(*x)\n",
    "\n",
    "l(\"Bhavani\",\"Hegde\",\"Stuttgart\")\n",
    "    "
   ]
  },
  {
   "cell_type": "code",
   "execution_count": 49,
   "id": "47cbdc07",
   "metadata": {},
   "outputs": [
    {
     "name": "stdout",
     "output_type": "stream",
     "text": [
      "[1, 4, 9, 16, 25, 36, 49, 64, 81, 100, 121, 144, 169, 196, 225, 256, 289, 324, 361, 400, 441, 484, 529, 576, 625, 676, 729, 784, 841, 900, 961, 1024, 1089, 1156, 1225, 1296, 1369, 1444, 1521, 1600, 1681, 1764, 1849, 1936, 2025, 2116, 2209, 2304, 2401, 2500, 2601, 2704, 2809, 2916, 3025, 3136, 3249, 3364, 3481, 3600, 3721, 3844, 3969, 4096, 4225, 4356, 4489, 4624, 4761, 4900, 5041, 5184, 5329, 5476, 5625, 5776, 5929, 6084, 6241, 6400, 6561, 6724, 6889, 7056, 7225, 7396, 7569, 7744, 7921, 8100, 8281, 8464, 8649, 8836, 9025, 9216, 9409, 9604, 9801, 10000]\n"
     ]
    }
   ],
   "source": [
    "\"\"\"q5:try to write the lambda functon which can return the square of all the data between 1 to 100\"\"\"\n",
    "\n",
    "sqr = map(lambda x: x*x, range(1,101))\n",
    "\n",
    "print(list(sqr))\n"
   ]
  },
  {
   "cell_type": "code",
   "execution_count": 70,
   "id": "061ea2fa",
   "metadata": {},
   "outputs": [
    {
     "name": "stdout",
     "output_type": "stream",
     "text": [
      "30\n",
      "\n",
      "22\n",
      "33\n",
      "\n",
      "Hello  Bhavani\n",
      "\n",
      "24\n",
      "\n",
      "[2, 4, 6, 8]\n",
      "\n",
      "[1, 8, 27, 64, 125, 216, 343, 512, 729]\n",
      "\n",
      "[18, 5, 12]\n",
      "\n",
      "125\n",
      "\n",
      "10\n",
      "20\n",
      "30\n",
      "40\n",
      "50\n",
      "60\n",
      "70\n",
      "80\n",
      "90\n",
      "100\n",
      "\n",
      "[5, 7, 97, 77, 23, 73, 61]\n"
     ]
    }
   ],
   "source": [
    "\"\"\"q6: try to write 10 different ex of lambda funcion with a choice of ur task\"\"\"\n",
    "#1\n",
    "x = lambda a, b : a * b\n",
    "print(x(5, 6))\n",
    "print()\n",
    "\n",
    "\n",
    "#2\n",
    "def myfunc(n):\n",
    "  return lambda a : a * n\n",
    "\n",
    "mydoubler = myfunc(2)\n",
    "mytripler = myfunc(3)\n",
    "print(mydoubler(11))\n",
    "print(mytripler(11))\n",
    "print()\n",
    "\n",
    "#3\n",
    "greet = lambda name: print('Hello ', name) \n",
    "greet('Bhavani')\n",
    "print()\n",
    "\n",
    "\n",
    "#4\n",
    "print((lambda x: x*2)(12))\n",
    "print()\n",
    "\n",
    "\n",
    "#5\n",
    "list_1 = [1,2,3,4,5,6,7,8,9]\n",
    "filter(lambda x: x%2==0, list_1)\n",
    "print(list(filter(lambda x: x%2==0, list_1)))\n",
    "print()\n",
    "\n",
    "\n",
    "#6\n",
    "list_2 = [1,2,3,4,5,6,7,8,9]\n",
    "cubed = map(lambda x: pow(x,3), list_2)\n",
    "print(list(cubed))\n",
    "print()\n",
    "\n",
    "#7\n",
    "list3 = [18, -3, 5, 0, -1, 12]\n",
    "new_list = list(filter(lambda x: x > 0, list3))\n",
    "print(new_list)\n",
    "print()\n",
    "\n",
    "#8\n",
    "def cube(y):\n",
    "    return y*y*y\n",
    "  \n",
    "lambda_cube = lambda y: y*y*y\n",
    "print(cube(5))\n",
    "print()\n",
    "\n",
    "#9\n",
    "tables = [lambda x=x: x*10 for x in range(1, 11)]\n",
    "for table in tables:\n",
    "    print(table())\n",
    "print()\n",
    "\n",
    "    \n",
    "#10\n",
    "list4 = [5, 7, 22, 97, 54, 62, 77, 23, 73, 61]\n",
    "  \n",
    "final_list = list(filter(lambda x: (x%2 != 0) , list4))\n",
    "print(final_list)"
   ]
  },
  {
   "cell_type": "code",
   "execution_count": 55,
   "id": "4cf71a73",
   "metadata": {},
   "outputs": [
    {
     "name": "stdout",
     "output_type": "stream",
     "text": [
      "Output of Read function is \n",
      "today its sunny and can play outside\n",
      "\n"
     ]
    }
   ],
   "source": [
    "\"\"\"q7: try to write a function which can perform a read operation from.txt file\"\"\"\n",
    "\n",
    "file1 = open(\"C://Users/gpalb/OneDrive/Desktop/FSDS/bhavani.txt\",\"r+\")\n",
    " \n",
    "print(\"Output of Read function is \")\n",
    "print(file1.read())\n",
    "print()"
   ]
  },
  {
   "cell_type": "code",
   "execution_count": null,
   "id": "2c5b90da",
   "metadata": {},
   "outputs": [],
   "source": []
  }
 ],
 "metadata": {
  "kernelspec": {
   "display_name": "Python 3 (ipykernel)",
   "language": "python",
   "name": "python3"
  },
  "language_info": {
   "codemirror_mode": {
    "name": "ipython",
    "version": 3
   },
   "file_extension": ".py",
   "mimetype": "text/x-python",
   "name": "python",
   "nbconvert_exporter": "python",
   "pygments_lexer": "ipython3",
   "version": "3.9.12"
  }
 },
 "nbformat": 4,
 "nbformat_minor": 5
}
